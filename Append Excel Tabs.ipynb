{
 "cells": [
  {
   "cell_type": "code",
   "execution_count": 1,
   "metadata": {},
   "outputs": [
    {
     "name": "stderr",
     "output_type": "stream",
     "text": [
      "C:\\Users\\u1189580\\AppData\\Local\\Continuum\\anaconda3\\lib\\site-packages\\pandas\\core\\frame.py:6692: FutureWarning: Sorting because non-concatenation axis is not aligned. A future version\n",
      "of pandas will change to not sort by default.\n",
      "\n",
      "To accept the future behavior, pass 'sort=False'.\n",
      "\n",
      "To retain the current behavior and silence the warning, pass 'sort=True'.\n",
      "\n",
      "  sort=sort)\n"
     ]
    }
   ],
   "source": [
    "import pandas as pd\n",
    "from tkinter import *\n",
    "from tkinter import scrolledtext, messagebox, Image, filedialog\n",
    "from tkinter.ttk import *\n",
    "\n",
    "def read_the_sheets(file_path, first_row):\n",
    "    try:\n",
    "        xl = pd.ExcelFile(file_path)\n",
    "        num_sheets = len(xl.sheet_names)\n",
    "    except: messagebox.showinfo(\"Status\",\"there was a problem with the input\")\n",
    "    messagebox.showinfo(\"Status\",\"We're appending \"+str(num_sheets)+\" tabs in the workbook \"+file_path)\n",
    "    try:\n",
    "        asheet = pd.read_excel(file_path, sheet_name = 0, header = (first_row-1))\n",
    "    except Exception as e: messagebox.showinfo(\"Status\",e)\n",
    "    try:\n",
    "        for i in range(len(xl.sheet_names)):\n",
    "            bsheet = pd.read_excel(file_path, sheet_name = i, header = (first_row-1))\n",
    "            asheet = asheet.append(bsheet, ignore_index=False, verify_integrity=False, sort=None)\n",
    "        return asheet\n",
    "    except: messagebox.showinfo(\"Status\",\"appending loop\")\n",
    "\n",
    "\n",
    "window = Tk()\n",
    "window.title('Append Excel Tabs')\n",
    "l1 = Label(window, text=\"This program appends the data from multiple tabs in an Excel workbook\",font=(\"Arial Bold\",12))\n",
    "l1.pack()\n",
    "l2 = Label(window, text=\"First, enter which row in each spreadsheet has the labels\",font=(\"Arial Bold\",12))\n",
    "l2.pack()\n",
    "l3 = Label(window, text=\"Then paste that path in the box below\",font=(\"Arial Bold\",12))\n",
    "l3.pack()\n",
    "\n",
    "l4 = Label(window, text=\"Then enter which row in each spreadsheet has the labels\",font=(\"Arial Bold\",12))\n",
    "l4.pack()\n",
    "\n",
    "labelRow = Spinbox(window, from_=0,to=100, width=5)\n",
    "labelRow.pack()\n",
    "\n",
    "appendBtn = Button(window, text='Select Workbook to Append', command=lambda:clicked())\n",
    "quitBtn = Button(window, text='Exit Program', command=window.quit)\n",
    "appendBtn.pack()\n",
    "quitBtn.pack()\n",
    "\n",
    "\n",
    "def clicked():\n",
    "    try:\n",
    "        window.filename =  filedialog.askopenfilename(initialdir = \"/\",title = \"Select file\",filetypes = ((\"Excel files\",\"*.xlsx\"),(\"all files\",\"*.*\")))\n",
    "        filePath1 = window.filename\n",
    "        #filePath1 = filePath1.Replace(\"\\\\\",\"/\")\n",
    "    except: messagebox.showinfo(\"Status\",\"Problem with the file; make sure it's .xlsx\")\n",
    "    try:\n",
    "        labelRow1 = int(labelRow.get())\n",
    "    except: messagebox.showinfo(\"Status\",\"Please enter the row label\")\n",
    "    appended_sheets = read_the_sheets(filePath1,labelRow1)\n",
    "    try:\n",
    "        #saveFile =  filedialog.asksaveasfilename(initialdir = \"/\",title = \"Save file\",filetypes = ((\"Excel files\",\"*.xlsx\"),(\"all files\",\"*.*\")))\n",
    "        savefile = filedialog.asksaveasfilename(filetypes=((\"Excel files\", \"*.xlsx\"),\n",
    "                                                         (\"All files\", \"*.*\") ))               \n",
    "        appended_sheets.to_excel(savefile+\".xlsx\", index = False)\n",
    "        messagebox.showinfo(\"Status\",\"saved to \"+savefile)\n",
    "    except Exception as e: messagebox.showinfo(\"Status\",e)\n",
    "    \n",
    "window.mainloop()"
   ]
  },
  {
   "cell_type": "code",
   "execution_count": null,
   "metadata": {},
   "outputs": [],
   "source": []
  }
 ],
 "metadata": {
  "kernelspec": {
   "display_name": "Python 3",
   "language": "python",
   "name": "python3"
  },
  "language_info": {
   "codemirror_mode": {
    "name": "ipython",
    "version": 3
   },
   "file_extension": ".py",
   "mimetype": "text/x-python",
   "name": "python",
   "nbconvert_exporter": "python",
   "pygments_lexer": "ipython3",
   "version": "3.7.3"
  }
 },
 "nbformat": 4,
 "nbformat_minor": 2
}
