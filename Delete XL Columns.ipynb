{
 "cells": [
  {
   "cell_type": "code",
   "execution_count": 20,
   "metadata": {},
   "outputs": [
    {
     "name": "stdout",
     "output_type": "stream",
     "text": [
      "libraries imported\n",
    
     ]
    },
    {
     "name": "stderr",
     "output_type": "stream",
     "text": [
    
     ]
    },
    {
     "name": "stdout",
     "output_type": "stream",
     "text": [
      "columns deleted\n",
      
     ]
    }
   ],
   "source": [
    "#Step 1: change input excel path (shift+right click the file)\n",
    "#Step 2: define output excel path\n",
    "#Step 3: define the columns to delete\n",
    "\n",
    "#-----------------Step 1----------------------\n",
    "excel_path = \"//filepath.xlsx\"\n",
    "#-----------------Step 2----------------------\n",
    "output_excel_path = \"//filepath.xlsx\"\n",
    "#-----------------Step 3----------------------\n",
    "columns_to_delete = [\"b\",\"d\",\"g\",\"m\"]\n",
    "\n",
    "import pandas as pd\n",
    "import matplotlib.pyplot as plt\n",
    "import openpyxl\n",
    "from string import ascii_lowercase\n",
    "print(\"libraries imported\")\n",
    "\n",
    "xl = pd.ExcelFile(excel_path)\n",
    "num_sheets = len(xl.sheet_names)\n",
    "print(\"We're deleting columns from \"+str(num_sheets)+\" tabs in the workbook \"+excel_path)\n",
    "LETTERS = {letter: str(index) for index, letter in enumerate(ascii_lowercase, start=1)}\n",
    "#defines the letters to a number for conversion later\n",
    "\n",
    "#converts the alphabet character to a number\n",
    "def alphabet_position(text):\n",
    "    text = text.lower()\n",
    "    numbers = [LETTERS[character] for character in text if character in LETTERS]\n",
    "    return ' '.join(numbers)\n",
    "\n",
    "def delete_the_columns(file_path, column):\n",
    "    ss=openpyxl.load_workbook(file_path)\n",
    "    xl = pd.ExcelFile(file_path)\n",
    "    for i in range(len(column)):\n",
    "        column[i] = alphabet_position(column[i])\n",
    "#    columnName = alphabet_position(column)\n",
    "    for j in range(len(column)):\n",
    "        for i in range(len(xl.sheet_names)):\n",
    "            currentSheetName = xl.sheet_names[(i)]\n",
    "            ss_sheet = ss.get_sheet_by_name(currentSheetName)\n",
    "            ss_sheet.delete_cols(int(column[j])-j)\n",
    "    return ss\n",
    "\n",
    "deleted_column_sheet = delete_the_columns(excel_path,columns_to_delete)\n",
    "print(\"columns deleted\")\n",
    "deleted_column_sheet.save(output_excel_path)\n",
    "print(\"Data outputted to \"+output_excel_path)"
   ]
  },
  {
   "cell_type": "code",
   "execution_count": null,
   "metadata": {},
   "outputs": [],
   "source": []
  }
 ],
 "metadata": {
  "kernelspec": {
   "display_name": "Python 3",
   "language": "python",
   "name": "python3"
  },
  "language_info": {
   "codemirror_mode": {
    "name": "ipython",
    "version": 3
   },
   "file_extension": ".py",
   "mimetype": "text/x-python",
   "name": "python",
   "nbconvert_exporter": "python",
   "pygments_lexer": "ipython3",
   "version": "3.7.3"
  }
 },
 "nbformat": 4,
 "nbformat_minor": 2
}
