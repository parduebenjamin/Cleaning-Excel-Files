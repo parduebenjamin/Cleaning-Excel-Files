{
 "cells": [
  {
   "cell_type": "code",
   "execution_count": 18,
   "metadata": {},
   "outputs": [
    {
     "name": "stdout",
     "output_type": "stream",
     "text": [
      "libraries imported\n",
      "We're renaming 20 tabs in the workbook //filepath.xlsx\n"
     ]
    },
    {
     "name": "stderr",
     "output_type": "stream",
     "text": [
      "C:\ to deprecated function get_sheet_by_name (Use wb[sheetname]).\n"
     ]
    },
    {
     "name": "stdout",
     "output_type": "stream",
     "text": [
      "sheets renamed\n",
      "Data outputted to //.xlsx\n"
     ]
    }
   ],
   "source": [
    "import pandas as pd\n",
    "import matplotlib.pyplot as plt\n",
    "import openpyxl\n",
    "\n",
    "print(\"libraries imported\")\n",
    "excel_path = \"//filepath.xlsx\"\n",
    "xl = pd.ExcelFile(excel_path)\n",
    "num_sheets = len(xl.sheet_names)\n",
    "print(\"We're renaming \"+str(num_sheets)+\" tabs in the workbook \"+excel_path)\n",
    "\n",
    "def rename_the_sheets(file_path, firstSheetName):\n",
    "    ss = openpyxl.load_workbook(file_path)\n",
    "    xl = pd.ExcelFile(file_path)\n",
    "    \n",
    "    for i in range(len(xl.sheet_names)):\n",
    "        if i < num_sheets:\n",
    "            currentSheetName = xl.sheet_names[(i)]\n",
    "            ss_sheet = ss.get_sheet_by_name(currentSheetName)\n",
    "            ss_sheet.title = str(firstSheetName+(i))\n",
    "        elif i == numsheets:\n",
    "            currentSheetName = xl.sheet_names[(num_sheets-1)]\n",
    "            ss_sheet = ss.get_sheet_by_name(currentSheetName)\n",
    "            #ss_sheet.title = str(firstSheetName+(num_sheets-1))\n",
    "            ss_sheet.title = \"foo_bar\"\n",
    "    return ss\n",
    "renamed_sheets = rename_the_sheets(excel_path, 2000)\n",
    "print(\"sheets renamed\")\n",
    "#print(appended_sheets)\n",
    "output_excel_path = \"//filepath.xlsx\"\n",
    "renamed_sheets.save(output_excel_path)\n",
    "print(\"Data outputted to \"+output_excel_path)"
   ]
  },
  {
   "cell_type": "code",
   "execution_count": null,
   "metadata": {},
   "outputs": [],
   "source": []
  },
  {
   "cell_type": "code",
   "execution_count": null,
   "metadata": {},
   "outputs": [],
   "source": []
  }
 ],
 "metadata": {
  "kernelspec": {
   "display_name": "Python 3",
   "language": "python",
   "name": "python3"
  },
  "language_info": {
   "codemirror_mode": {
    "name": "ipython",
    "version": 3
   },
   "file_extension": ".py",
   "mimetype": "text/x-python",
   "name": "python",
   "nbconvert_exporter": "python",
   "pygments_lexer": "ipython3",
   "version": "3.7.3"
  }
 },
 "nbformat": 4,
 "nbformat_minor": 2
}
